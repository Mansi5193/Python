{
 "cells": [
  {
   "cell_type": "code",
   "execution_count": 6,
   "id": "1129b7fe",
   "metadata": {},
   "outputs": [
    {
     "name": "stdout",
     "output_type": "stream",
     "text": [
      "*   *\n",
      "\n",
      " * * \n",
      "\n",
      "  *  \n",
      "\n",
      " * * \n",
      "\n",
      "*   *\n",
      "\n"
     ]
    }
   ],
   "source": [
    "for row in range(1,6):\n",
    "    for col in range(1,6):\n",
    "        if row+col==6 or row==col:\n",
    "            print(\"*\",end=\"\")\n",
    "        else:\n",
    "            print(end=\" \")\n",
    "       \n",
    "    print(\"\\n\")"
   ]
  },
  {
   "cell_type": "code",
   "execution_count": 2,
   "id": "6ee2ab4b",
   "metadata": {},
   "outputs": [
    {
     "name": "stdout",
     "output_type": "stream",
     "text": [
      "+   +\n",
      "\n",
      " + + \n",
      "\n",
      "  +  \n",
      "\n"
     ]
    }
   ],
   "source": [
    "for row in range(1,4):\n",
    "    for col in range(1,6):\n",
    "        if row+col==6 or row==col:\n",
    "            print(\"+\",end=\"\")\n",
    "        else:\n",
    "            print(end=\" \")\n",
    "    print(\"\\n\")\n"
   ]
  },
  {
   "cell_type": "code",
   "execution_count": 15,
   "id": "19876a16",
   "metadata": {},
   "outputs": [
    {
     "name": "stdout",
     "output_type": "stream",
     "text": [
      "enter your for i value1\n",
      "enter your for j value8\n",
      "the loop travel 1 timesthe loop travel 2 timesthe loop travel 3 timesthe loop travel 4 timesthe loop travel 5 timesthe loop travel 6 timesthe loop travel 7 times"
     ]
    }
   ],
   "source": [
    "i=int(input(\"enter your for i value\"))\n",
    "j=int(input(\"enter your for j value\"))\n",
    "count=0\n",
    "for a in range(i,j):\n",
    "    count=count+1\n",
    "    print(\"the loop travel\",count,\"times\",end=\"\")"
   ]
  },
  {
   "cell_type": "code",
   "execution_count": 17,
   "id": "b0b8f863",
   "metadata": {},
   "outputs": [
    {
     "name": "stdout",
     "output_type": "stream",
     "text": [
      "enter your for i value34\n",
      "prime no\n",
      "prime no\n",
      "prime no\n",
      "prime no\n"
     ]
    }
   ],
   "source": [
    "i=int(input(\"enter your for i value\"))\n",
    "count=0\n",
    "for x in range (1,i+1):\n",
    "    if i%x==0:\n",
    "        count=count+1\n",
    "        print(\"prime no\")\n",
    "else:\n",
    "    if count<=2:\n",
    "        print(\"composite no\")"
   ]
  },
  {
   "cell_type": "code",
   "execution_count": 18,
   "id": "2dcab68b",
   "metadata": {},
   "outputs": [
    {
     "name": "stdout",
     "output_type": "stream",
     "text": [
      "1\n",
      "12\n",
      "123\n",
      "1234\n",
      "12345\n"
     ]
    }
   ],
   "source": [
    "for a in range(1,6):\n",
    "    for b in range(1,a+1):\n",
    "        print(b, end=\"\")\n",
    "    print(\"\")"
   ]
  },
  {
   "cell_type": "code",
   "execution_count": 24,
   "id": "6fc2fcd9",
   "metadata": {},
   "outputs": [
    {
     "name": "stdout",
     "output_type": "stream",
     "text": [
      "5 5 5 5 5  \n",
      "4 4 4 4  \n",
      "3 3 3  \n",
      "2 2  \n",
      "1  \n"
     ]
    }
   ],
   "source": [
    "for x in range(5,0,-1):\n",
    "    for b in range(x):\n",
    "        print(x,end=\" \")\n",
    "    print(\" \")"
   ]
  },
  {
   "cell_type": "code",
   "execution_count": 31,
   "id": "188491f4",
   "metadata": {},
   "outputs": [
    {
     "name": "stdout",
     "output_type": "stream",
     "text": [
      "* \n",
      "* * \n",
      "* * * \n",
      "* * * * \n",
      "* * * * * \n",
      "* * * * *  \n",
      "* * * *  \n",
      "* * *  \n",
      "* *  \n",
      "*  \n"
     ]
    }
   ],
   "source": [
    "for a in range(1,6):\n",
    "    for b in range(1,a+1):\n",
    "        print(\"*\",end=\" \")\n",
    "    print(\"\")\n",
    "for x in range(5,0,-1):\n",
    "    for b in range(x):\n",
    "        print(\"*\",end=\" \")\n",
    "    print(\" \")"
   ]
  },
  {
   "cell_type": "code",
   "execution_count": 58,
   "id": "11aef92f",
   "metadata": {},
   "outputs": [
    {
     "name": "stdout",
     "output_type": "stream",
     "text": [
      "*  *    \n",
      "\n",
      "*  *    \n",
      "\n",
      "*  *    \n",
      "\n",
      "*  *    \n",
      "\n",
      "*    \n",
      "\n",
      "*  *    \n",
      "\n",
      "*  *    \n",
      "\n",
      "*  *    \n",
      "\n",
      "*  *    \n",
      "\n"
     ]
    }
   ],
   "source": [
    "for row in range(1,10):\n",
    "    for col in range(1,10):\n",
    "        if row+col==10 or row==col:\n",
    "            print(\"*\",end=\"  \")\n",
    "    else:\n",
    "        print(end=\"  \")\n",
    "        \n",
    "    print(\"\\n\")\n"
   ]
  },
  {
   "cell_type": "code",
   "execution_count": null,
   "id": "4e853b57",
   "metadata": {},
   "outputs": [],
   "source": []
  },
  {
   "cell_type": "code",
   "execution_count": 4,
   "id": "b179df34",
   "metadata": {
    "scrolled": true
   },
   "outputs": [
    {
     "name": "stdout",
     "output_type": "stream",
     "text": [
      "M    M \n",
      "\n",
      " A  A  \n",
      "\n",
      "  N   \n",
      "\n",
      " S  S  \n",
      "\n",
      "I    I \n",
      "\n"
     ]
    }
   ],
   "source": [
    "a1=\"MANSI\"\n",
    "count=0\n",
    "for a in range(1,6):\n",
    "    for b in range(1,6):\n",
    "        if a+b==6 or a==b:\n",
    "            print(a1[count],end=\" \")\n",
    "        else:\n",
    "            print(end=\" \")\n",
    "    print(\"\\n\")\n",
    "    count=count+1"
   ]
  },
  {
   "cell_type": "code",
   "execution_count": 1,
   "id": "ac828174",
   "metadata": {},
   "outputs": [
    {
     "name": "stdout",
     "output_type": "stream",
     "text": [
      "M\n",
      "\n",
      "\n",
      "\n",
      "\n",
      "\n",
      "\n",
      "\n",
      "\n",
      "\n"
     ]
    },
    {
     "ename": "IndexError",
     "evalue": "string index out of range",
     "output_type": "error",
     "traceback": [
      "\u001b[1;31m---------------------------------------------------------------------------\u001b[0m",
      "\u001b[1;31mIndexError\u001b[0m                                Traceback (most recent call last)",
      "Input \u001b[1;32mIn [1]\u001b[0m, in \u001b[0;36m<cell line: 3>\u001b[1;34m()\u001b[0m\n\u001b[0;32m      4\u001b[0m \u001b[38;5;28;01mfor\u001b[39;00m col \u001b[38;5;129;01min\u001b[39;00m \u001b[38;5;28mrange\u001b[39m(\u001b[38;5;241m1\u001b[39m,\u001b[38;5;241m5\u001b[39m):\n\u001b[0;32m      5\u001b[0m     \u001b[38;5;28;01mif\u001b[39;00m row \u001b[38;5;241m+\u001b[39mcol\u001b[38;5;241m==\u001b[39m\u001b[38;5;241m10\u001b[39m \u001b[38;5;129;01mor\u001b[39;00m row\u001b[38;5;241m==\u001b[39mcol:\n\u001b[1;32m----> 6\u001b[0m         \u001b[38;5;28mprint\u001b[39m(\u001b[43ma\u001b[49m\u001b[43m[\u001b[49m\u001b[43mcount\u001b[49m\u001b[43m]\u001b[49m,end\u001b[38;5;241m=\u001b[39m\u001b[38;5;124m\"\u001b[39m\u001b[38;5;124m\"\u001b[39m)\n\u001b[0;32m      7\u001b[0m     \u001b[38;5;28;01melse\u001b[39;00m:\n\u001b[0;32m      8\u001b[0m         \u001b[38;5;28mprint\u001b[39m(end\u001b[38;5;241m=\u001b[39m\u001b[38;5;124m\"\u001b[39m\u001b[38;5;124m\"\u001b[39m)\n",
      "\u001b[1;31mIndexError\u001b[0m: string index out of range"
     ]
    }
   ],
   "source": [
    "a=\"MANSI\"\n",
    "count=0\n",
    "for row in range(1,9):\n",
    "    for col in range(1,5):\n",
    "        if row +col==10 or row==col:\n",
    "            print(a[count],end=\"\")\n",
    "        else:\n",
    "            print(end=\"\")\n",
    "        print(\"\\n\")\n",
    "        count=count+1"
   ]
  },
  {
   "cell_type": "code",
   "execution_count": 21,
   "id": "b8f22555",
   "metadata": {},
   "outputs": [],
   "source": [
    "def lnp():\n",
    "    for row in range(1,6):\n",
    "        for col in range(1,6):\n",
    "            if row+col==6 or row==col:\n",
    "                print(\"*\",end=\" \")\n",
    "            else:\n",
    "                print(end=\"  \")\n",
    "        print(\"\")"
   ]
  },
  {
   "cell_type": "code",
   "execution_count": 22,
   "id": "b2187886",
   "metadata": {},
   "outputs": [
    {
     "name": "stdout",
     "output_type": "stream",
     "text": [
      "*       * \n",
      "  *   *   \n",
      "    *     \n",
      "  *   *   \n",
      "*       * \n"
     ]
    }
   ],
   "source": [
    "lnp()"
   ]
  },
  {
   "cell_type": "code",
   "execution_count": 25,
   "id": "6116ae1e",
   "metadata": {},
   "outputs": [],
   "source": [
    "def hji():\n",
    "    for a in range(1,6):\n",
    "        for b in range(a):\n",
    "            print(a,end=\" \")\n",
    "        print(\" \")"
   ]
  },
  {
   "cell_type": "code",
   "execution_count": 26,
   "id": "1f9c6dc4",
   "metadata": {},
   "outputs": [
    {
     "name": "stdout",
     "output_type": "stream",
     "text": [
      "1  \n",
      "2 2  \n",
      "3 3 3  \n",
      "4 4 4 4  \n",
      "5 5 5 5 5  \n"
     ]
    }
   ],
   "source": [
    "hji()"
   ]
  },
  {
   "cell_type": "code",
   "execution_count": 27,
   "id": "b08bd899",
   "metadata": {},
   "outputs": [],
   "source": [
    "def ghi():\n",
    "    for c in range(1,5):\n",
    "        for f in range(1,c+1):\n",
    "            print(f,end=\"  \")\n",
    "        print(\" \")"
   ]
  },
  {
   "cell_type": "code",
   "execution_count": 28,
   "id": "474f0999",
   "metadata": {},
   "outputs": [
    {
     "name": "stdout",
     "output_type": "stream",
     "text": [
      "1   \n",
      "1  2   \n",
      "1  2  3   \n",
      "1  2  3  4   \n"
     ]
    }
   ],
   "source": [
    "ghi()"
   ]
  },
  {
   "cell_type": "code",
   "execution_count": 43,
   "id": "2b5195f1",
   "metadata": {},
   "outputs": [],
   "source": [
    "def abc():\n",
    "    for x in range(5,0,-1):\n",
    "        for v in range(x):\n",
    "            print(\"*\",end=\"\")\n",
    "        print(\"\")"
   ]
  },
  {
   "cell_type": "code",
   "execution_count": 44,
   "id": "701393d8",
   "metadata": {},
   "outputs": [
    {
     "name": "stdout",
     "output_type": "stream",
     "text": [
      "*****\n",
      "****\n",
      "***\n",
      "**\n",
      "*\n"
     ]
    }
   ],
   "source": [
    "abc()"
   ]
  },
  {
   "cell_type": "code",
   "execution_count": 50,
   "id": "9a96bea3",
   "metadata": {},
   "outputs": [],
   "source": [
    "def klm():\n",
    "    for c in range(1,5):\n",
    "        for b in range(c):\n",
    "            print(\"*\",end=\" \")\n",
    "        print(\" \")\n",
    "    for v in range(5,0,-1):\n",
    "        for n in range(v):\n",
    "            print(\"*\",end=\" \")\n",
    "        print(\" \")"
   ]
  },
  {
   "cell_type": "code",
   "execution_count": 51,
   "id": "f547c843",
   "metadata": {},
   "outputs": [
    {
     "name": "stdout",
     "output_type": "stream",
     "text": [
      "*  \n",
      "* *  \n",
      "* * *  \n",
      "* * * *  \n",
      "* * * * *  \n",
      "* * * *  \n",
      "* * *  \n",
      "* *  \n",
      "*  \n"
     ]
    }
   ],
   "source": [
    "klm()"
   ]
  },
  {
   "cell_type": "code",
   "execution_count": 8,
   "id": "062a52b8",
   "metadata": {},
   "outputs": [],
   "source": [
    "def nkl():\n",
    "    for row in range(1,4):\n",
    "        for col in range(1,6):\n",
    "            if row+col==6 or row==col:\n",
    "                print(\"+\",end=\" \")\n",
    "        else:\n",
    "             print(end=\" \")\n",
    "        print(\"  \")\n",
    "            "
   ]
  },
  {
   "cell_type": "code",
   "execution_count": 9,
   "id": "6b5de824",
   "metadata": {},
   "outputs": [
    {
     "name": "stdout",
     "output_type": "stream",
     "text": [
      "+ +    \n",
      "+ +    \n",
      "+    \n"
     ]
    }
   ],
   "source": [
    "nkl()"
   ]
  },
  {
   "cell_type": "code",
   "execution_count": 12,
   "id": "06261df3",
   "metadata": {},
   "outputs": [
    {
     "ename": "IndentationError",
     "evalue": "unexpected indent (3369011593.py, line 2)",
     "output_type": "error",
     "traceback": [
      "\u001b[1;36m  Input \u001b[1;32mIn [12]\u001b[1;36m\u001b[0m\n\u001b[1;33m    count=0\u001b[0m\n\u001b[1;37m    ^\u001b[0m\n\u001b[1;31mIndentationError\u001b[0m\u001b[1;31m:\u001b[0m unexpected indent\n"
     ]
    }
   ],
   "source": [
    "a=\"ANURADHA\"\n",
    "count=0\n",
    "for a in range(1,9):\n",
    "    for b in range(1,9):\n",
    "        if a+b==8 or a==b:\n",
    "            print(a[count],end=\" \")\n",
    "        else:\n",
    "            print(end=\" \")\n",
    "    print(\"\\n\")\n",
    "    count=count+1"
   ]
  },
  {
   "cell_type": "code",
   "execution_count": 13,
   "id": "4ece4b7f",
   "metadata": {},
   "outputs": [
    {
     "name": "stdout",
     "output_type": "stream",
     "text": [
      "M    M \n",
      "\n",
      " A  A  \n",
      "\n",
      "  N   \n",
      "\n",
      " S  S  \n",
      "\n",
      "I    I \n",
      "\n"
     ]
    }
   ],
   "source": [
    "a1=\"MANSI\"\n",
    "count=0\n",
    "for a in range(1,6):\n",
    "    for b in range(1,6):\n",
    "        if a+b==6 or a==b:\n",
    "            print(a1[count],end=\" \")\n",
    "        else:\n",
    "            print(end=\" \")\n",
    "    print(\"\\n\")\n",
    "    count=count+1"
   ]
  },
  {
   "cell_type": "code",
   "execution_count": 14,
   "id": "a2d3882d",
   "metadata": {},
   "outputs": [
    {
     "ename": "NameError",
     "evalue": "name 'Anura' is not defined",
     "output_type": "error",
     "traceback": [
      "\u001b[1;31m---------------------------------------------------------------------------\u001b[0m",
      "\u001b[1;31mNameError\u001b[0m                                 Traceback (most recent call last)",
      "Input \u001b[1;32mIn [14]\u001b[0m, in \u001b[0;36m<cell line: 1>\u001b[1;34m()\u001b[0m\n\u001b[1;32m----> 1\u001b[0m value\u001b[38;5;241m=\u001b[39m\u001b[43mAnura\u001b[49m\n",
      "\u001b[1;31mNameError\u001b[0m: name 'Anura' is not defined"
     ]
    }
   ],
   "source": [
    "value=Anura"
   ]
  },
  {
   "cell_type": "code",
   "execution_count": 30,
   "id": "c4ab1b43",
   "metadata": {},
   "outputs": [
    {
     "name": "stdout",
     "output_type": "stream",
     "text": [
      "A       A \n",
      "\n",
      " n     n  \n",
      "\n",
      "  u   u   \n",
      "\n",
      "   r r    \n",
      "\n",
      "   a a    \n",
      "\n",
      "  d   d   \n",
      "\n",
      " h     h  \n",
      "\n",
      "a       a \n",
      "\n"
     ]
    }
   ],
   "source": [
    "value=\"Anuradha\"\n",
    "count=0\n",
    "\n",
    "for a in range(1,9):\n",
    "    for b in range(1,9):\n",
    "        if a+b==9 or a==b:\n",
    "            print(value[count],end=\" \")\n",
    "        else:\n",
    "            print(end=\" \")\n",
    "    print(\"\\n\")\n",
    "    count=count+1"
   ]
  },
  {
   "cell_type": "code",
   "execution_count": null,
   "id": "e3877014",
   "metadata": {},
   "outputs": [],
   "source": []
  }
 ],
 "metadata": {
  "kernelspec": {
   "display_name": "Python 3 (ipykernel)",
   "language": "python",
   "name": "python3"
  },
  "language_info": {
   "codemirror_mode": {
    "name": "ipython",
    "version": 3
   },
   "file_extension": ".py",
   "mimetype": "text/x-python",
   "name": "python",
   "nbconvert_exporter": "python",
   "pygments_lexer": "ipython3",
   "version": "3.9.12"
  }
 },
 "nbformat": 4,
 "nbformat_minor": 5
}
